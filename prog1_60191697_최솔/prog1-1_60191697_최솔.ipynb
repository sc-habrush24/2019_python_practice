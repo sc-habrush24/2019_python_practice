{
 "cells": [
  {
   "cell_type": "code",
   "execution_count": 1,
   "metadata": {
    "scrolled": true
   },
   "outputs": [
    {
     "name": "stdout",
     "output_type": "stream",
     "text": [
      "양정수를 입력하세요:3\n",
      "양정수를 입력하세요:5\n",
      "양정수를 입력하세요:7\n",
      "양정수를 입력하세요:3\n",
      "양정수를 입력하세요:-1\n",
      "최대값은 7\n",
      "최소값은 3\n",
      "합은 18\n",
      "평균은 4.5\n"
     ]
    }
   ],
   "source": [
    "#Homework Assignment 1-1\n",
    "#Name : 최솔\n",
    "#Time Spent : 1:00\n",
    "\n",
    "def my_sum(x):\n",
    "    b=0\n",
    "    for i in range(0,len(x)):\n",
    "        b+=x[i]\n",
    "    return b\n",
    "\n",
    "def my_max(x):\n",
    "    b=x[0]\n",
    "    for i in range(0,len(x)):\n",
    "        if b<x[i] or b==x[i]:\n",
    "            b=x[i]\n",
    "    return b\n",
    "\n",
    "        \n",
    "\n",
    "def my_min(x):\n",
    "    b=x[0]\n",
    "    for i in range(0,len(x)):\n",
    "        if b>x[i] or b==x[i]:\n",
    "            b=x[i]\n",
    "    return b\n",
    "\n",
    "def my_avg(x):\n",
    "    return((my_sum(x))/len(x))\n",
    "\n",
    "x=[int(input(\"양정수를 입력하세요:\"))]\n",
    "while True :\n",
    "    if x[0]==0 or x[0]<0 :\n",
    "        print(\"Error!\")\n",
    "        break\n",
    "    k=int(input(\"양정수를 입력하세요:\"))\n",
    "    if k<0 or k==0 :\n",
    "        x=x[0:len(x)]\n",
    "        print(\"최대값은\",my_max(x))\n",
    "        print(\"최소값은\",my_min(x))\n",
    "        print(\"합은\",my_sum(x))\n",
    "        print(\"평균은\",my_avg(x))\n",
    "        break\n",
    "    x+=[k]\n"
   ]
  },
  {
   "cell_type": "code",
   "execution_count": null,
   "metadata": {},
   "outputs": [],
   "source": []
  },
  {
   "cell_type": "code",
   "execution_count": null,
   "metadata": {},
   "outputs": [],
   "source": []
  },
  {
   "cell_type": "code",
   "execution_count": null,
   "metadata": {},
   "outputs": [],
   "source": []
  },
  {
   "cell_type": "code",
   "execution_count": null,
   "metadata": {},
   "outputs": [],
   "source": []
  },
  {
   "cell_type": "code",
   "execution_count": null,
   "metadata": {},
   "outputs": [],
   "source": []
  },
  {
   "cell_type": "code",
   "execution_count": null,
   "metadata": {},
   "outputs": [],
   "source": []
  }
 ],
 "metadata": {
  "kernelspec": {
   "display_name": "Python 3",
   "language": "python",
   "name": "python3"
  },
  "language_info": {
   "codemirror_mode": {
    "name": "ipython",
    "version": 3
   },
   "file_extension": ".py",
   "mimetype": "text/x-python",
   "name": "python",
   "nbconvert_exporter": "python",
   "pygments_lexer": "ipython3",
   "version": "3.7.3"
  }
 },
 "nbformat": 4,
 "nbformat_minor": 2
}
