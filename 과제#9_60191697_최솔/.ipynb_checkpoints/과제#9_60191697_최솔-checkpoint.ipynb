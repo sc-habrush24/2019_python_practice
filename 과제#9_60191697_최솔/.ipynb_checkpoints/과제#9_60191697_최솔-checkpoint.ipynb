{
 "cells": [
  {
   "cell_type": "code",
   "execution_count": 1,
   "metadata": {
    "scrolled": false
   },
   "outputs": [
    {
     "name": "stdout",
     "output_type": "stream",
     "text": [
      "True\n",
      "1\n",
      "False\n",
      "None\n"
     ]
    }
   ],
   "source": [
    "class HashMap(object):\n",
    "    \n",
    "    def __init__(self):\n",
    "        self.vals = {}\n",
    "        \n",
    "    def insert(self,key,val):\n",
    "        if not key in self.vals :\n",
    "            self.vals[key]=val\n",
    "    \n",
    "    def delete(self,key):\n",
    "        del self.vals[key]\n",
    "    \n",
    "    def get(self,key):\n",
    "        try : return self.vals[key]\n",
    "        except : return None\n",
    "    \n",
    "    def contain(self,key):\n",
    "        return key in self.vals\n",
    "    \n",
    "hashMap=HashMap()\n",
    "hashMap.insert(\"grade\",1)\n",
    "print(hashMap.contain(\"grade\"))\n",
    "print(hashMap.get(\"grade\"))\n",
    "hashMap.delete(\"grade\")\n",
    "print(hashMap.contain(\"grade\"))\n",
    "print(hashMap.get(\"grade\"))\n"
   ]
  },
  {
   "cell_type": "code",
   "execution_count": 49,
   "metadata": {},
   "outputs": [
    {
     "name": "stdout",
     "output_type": "stream",
     "text": [
      "{'grade':1,'number':60171234,'name':'Gildong Hong'}\n"
     ]
    }
   ],
   "source": [
    "class HashMap(object):\n",
    "    \n",
    "    def __init__(self):\n",
    "        self.vals = {}\n",
    "    def insert(self,key,val):\n",
    "        if not key in self.vals :\n",
    "            self.vals[key]=val\n",
    "    def delete(self,key):\n",
    "        del self.vals[key]\n",
    "    def get(self,key):\n",
    "        try : return self.vals[key]\n",
    "        except : return None\n",
    "    def contain(self,key):\n",
    "        return key in self.vals\n",
    "    def __str__(self):\n",
    "        result = ''  \n",
    "        for key in self.vals:\n",
    "            if type(self.vals[key]) is str:\n",
    "                result = result+\"'\"+str(key)+\"'\"+':'+\"'\"+str(self.vals[key])+\"'\"+','\n",
    "            else :\n",
    "                result = result+\"'\"+str(key)+\"'\"+':'+str(self.vals[key])+','\n",
    "        return '{'+result[:-1]+'}'\n",
    "hashMap=HashMap()\n",
    "hashMap.insert(\"grade\",1)\n",
    "hashMap.insert(\"number\", 60171234)\n",
    "hashMap.insert(\"name\", \"Gildong Hong\")\n",
    "print(hashMap)"
   ]
  }
 ],
 "metadata": {
  "kernelspec": {
   "display_name": "Python 3",
   "language": "python",
   "name": "python3"
  },
  "language_info": {
   "codemirror_mode": {
    "name": "ipython",
    "version": 3
   },
   "file_extension": ".py",
   "mimetype": "text/x-python",
   "name": "python",
   "nbconvert_exporter": "python",
   "pygments_lexer": "ipython3",
   "version": "3.6.5"
  }
 },
 "nbformat": 4,
 "nbformat_minor": 2
}
