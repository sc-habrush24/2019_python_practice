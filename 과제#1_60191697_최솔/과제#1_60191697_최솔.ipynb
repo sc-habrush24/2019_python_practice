{
 "cells": [
  {
   "cell_type": "code",
   "execution_count": 1,
   "metadata": {},
   "outputs": [
    {
     "name": "stdout",
     "output_type": "stream",
     "text": [
      "반지름을 입력해 주세요 : -1\n",
      "Wrong Inputs!\n"
     ]
    }
   ],
   "source": [
    "#과제 1-1\n",
    "#PI 변수를 3.14로 초기화하고, 원의 반지름 값에 따라 원의 넓이를 출력하는 프로그램을 만드시오. \n",
    "#단, 원의 넓이가 50 이상이면 \"Very big circle!\" 출력하고, 50 미만이면 \"Normal Circle!\"을 출력, \n",
    "#0 미만이면 \"Wrong inputs!\" 출력하라.\n",
    "\n",
    "PI=3.14 \n",
    "\n",
    "#PI값을 3.14로 설정한다.\n",
    "\n",
    "r=float(input(\"반지름을 입력해 주세요 : \"))\n",
    "\n",
    "#변수 r을 입력할 반지름 값으로 설정\n",
    "#입력값을 출력하기 위해 input 사용\n",
    "#string인 변수 r을 실수로 바꾸기위해 float 사용\n",
    "\n",
    "area=r*r*PI\n",
    "\n",
    "#원의 넓이를 변수 area로 설정해서 area 안에 (원의 넓이 = 반지름의 제곱 * PI)를 넣음\n",
    "\n",
    "if(r<0):\n",
    "    print(\"Wrong Inputs!\")\n",
    "else:\n",
    "    if(area>=50):\n",
    "        print(\"Very Big Circle! and area is :\", area)\n",
    "    else :\n",
    "        print(\"Normal Circle! and area is :\", area)\n",
    "\n",
    "#if문을 사용하여 반지름이 음수일 경우와 양수일 경우로 구분한다.\n",
    "#반지름이 음수일 경우에는 Wrong Inputs!를 출력한다.\n",
    "#반지름이 음수가 아니라면 다시 if문을 사용하여 원의 넓이가 50 이상일때와 미만일 때로 구분하여\n",
    "#50 이상일 때는 문자열 \"Very Big Circle! and area is:\" 와 변수 area를 출력한다.\n",
    "#50 미만일 때는 문자열 \"Normal Circle! and area is:\" 와 변수 area를 출력한다."
   ]
  },
  {
   "cell_type": "code",
   "execution_count": 3,
   "metadata": {},
   "outputs": [
    {
     "name": "stdout",
     "output_type": "stream",
     "text": [
      "문자열을 입력해 주세요 :My name is Choi Sol z\n"
     ]
    },
    {
     "data": {
      "text/plain": [
       "'me is Choi Sol z'"
      ]
     },
     "execution_count": 3,
     "metadata": {},
     "output_type": "execute_result"
    }
   ],
   "source": [
    "#과제 1-2\n",
    "#프로그램 사용자로부터 문자열을 입력 받고 영문 소문자 'a'가 처음 등장하는 곳의 자음부터 \n",
    "#'z'가 처음 등장하기 전까지의 문자열만 필터링하여 출력하시오. \n",
    "#단 'a'는 반드시 'z' 전에 입력되어야 하며 'a'와 'z'는 문자열 중에 반드시 포함되어야 한다.\n",
    "#(hint:str[start:end]문법 활용 'a'가 처음 등장하는 start와 'z'가 처음 등장하는 end를 구하기가 관건)\n",
    "\n",
    "i=0\n",
    "m=0\n",
    "\n",
    "#i와 m값을 0으로 초기화한다.\n",
    "\n",
    "char=input(\"문자열을 입력해 주세요 :\")\n",
    "#입력하는 문자열의 변수를 char로 설정한다.\n",
    "\n",
    "while i<len(char):\n",
    "    if char[i] == 'a': break\n",
    "    i+=1\n",
    "#i값이 char의 길이보다 작으면 i에 +1씩 해주고, \n",
    "#만약, char의 i번째에 해당하는 문자가 a면 반복문을 탈출한다.\n",
    "    \n",
    "while m<len(char)+1 :\n",
    "    if char[m] == 'z': break\n",
    "    m+=1\n",
    "#m값이 char의 길이보다 작으면 m에 +1씩 해주고, \n",
    "#만약, char의 m번째에 해당하는 문자가 z면 반복문을 탈출한다.    \n",
    "\n",
    "   \n",
    "char[i+1:m+1]\n",
    "#문자열에서 문자의 순서가 0번째 부터 시작한다는 것에 유의하여 \n",
    "#char의 i번째 부터 m번째까지의 문자들을 출력한다.        "
   ]
  },
  {
   "cell_type": "code",
   "execution_count": null,
   "metadata": {},
   "outputs": [],
   "source": []
  }
 ],
 "metadata": {
  "kernelspec": {
   "display_name": "Python 3",
   "language": "python",
   "name": "python3"
  },
  "language_info": {
   "codemirror_mode": {
    "name": "ipython",
    "version": 3
   },
   "file_extension": ".py",
   "mimetype": "text/x-python",
   "name": "python",
   "nbconvert_exporter": "python",
   "pygments_lexer": "ipython3",
   "version": "3.6.5"
  }
 },
 "nbformat": 4,
 "nbformat_minor": 2
}
