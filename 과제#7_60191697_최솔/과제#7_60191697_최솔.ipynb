{
 "cells": [
  {
   "cell_type": "code",
   "execution_count": 24,
   "metadata": {
    "scrolled": false
   },
   "outputs": [
    {
     "name": "stdout",
     "output_type": "stream",
     "text": [
      "Input: []\n",
      "Average result is nan\n"
     ]
    }
   ],
   "source": [
    "def getAverage(vect):\n",
    "    try : \n",
    "        return int(sum(vect)/len(vect))\n",
    "    except ZeroDivisionError :\n",
    "        return float('nan')\n",
    "    except :\n",
    "        raise ValueError\n",
    "vect=[]\n",
    "print('Input:',vect)\n",
    "try:\n",
    "    print('Average result is', getAverage(vect))\n",
    "\n",
    "except ValueError :\n",
    "    print('Cannot calculate invalid arguments')\n"
   ]
  },
  {
   "cell_type": "code",
   "execution_count": 25,
   "metadata": {
    "scrolled": true
   },
   "outputs": [
    {
     "name": "stdout",
     "output_type": "stream",
     "text": [
      "Input: []\n",
      "Average result is nan\n"
     ]
    }
   ],
   "source": [
    "def getAverage(vect): \n",
    "    try :             \n",
    "        for i in vect:\n",
    "            assert type(i) is int,'Cannot calculate invalid arguments'\n",
    "        return int(sum(vect)/len(vect))         \n",
    "    except ZeroDivisionError :                 \n",
    "        return float('nan')                     \n",
    "vect=[]\n",
    "print('Input:',vect)\n",
    "try :                                         \n",
    "    print('Average result is',getAverage(vect)) \n",
    "except AssertionError as errorMsg :             \n",
    "    print(errorMsg)                             \n",
    "\n"
   ]
  }
 ],
 "metadata": {
  "kernelspec": {
   "display_name": "Python 3",
   "language": "python",
   "name": "python3"
  },
  "language_info": {
   "codemirror_mode": {
    "name": "ipython",
    "version": 3
   },
   "file_extension": ".py",
   "mimetype": "text/x-python",
   "name": "python",
   "nbconvert_exporter": "python",
   "pygments_lexer": "ipython3",
   "version": "3.6.5"
  }
 },
 "nbformat": 4,
 "nbformat_minor": 2
}
