{
 "cells": [
  {
   "cell_type": "code",
   "execution_count": 25,
   "metadata": {
    "scrolled": true
   },
   "outputs": [
    {
     "name": "stdout",
     "output_type": "stream",
     "text": [
      "Enter the number :10000\n",
      "10000's octal number is 023420\n",
      "10000's hexadecimal number is 0x2710\n"
     ]
    }
   ],
   "source": [
    "#10진수 양수를 입력받으면 8진수, 16진수로 각각 변환하여 출력하는 프로그램을 작성하기.\n",
    "\n",
    "a=int(input('Enter the number :'))\n",
    "b=a\n",
    "k=a\n",
    "z=str('')\n",
    "while a!=0 :\n",
    "    z=str(a%8)+z\n",
    "    a=a//8\n",
    "\n",
    "print(str(b)+\"'s octal number is\",'0'+z)\n",
    "\n",
    "\n",
    "m=k%16\n",
    "z=str('')\n",
    "while k!=0 :\n",
    "    m=k%16\n",
    "    lis=[0,1,2,3,4,5,6,7,8,9,'A','B','C','D','E','F']\n",
    "    z=str(lis[m])+z\n",
    "    k=k//16\n",
    "print(str(b)+\"'s hexadecimal number is\", '0x'+z)\n",
    "    "
   ]
  },
  {
   "cell_type": "code",
   "execution_count": null,
   "metadata": {},
   "outputs": [],
   "source": []
  }
 ],
 "metadata": {
  "kernelspec": {
   "display_name": "Python 3",
   "language": "python",
   "name": "python3"
  },
  "language_info": {
   "codemirror_mode": {
    "name": "ipython",
    "version": 3
   },
   "file_extension": ".py",
   "mimetype": "text/x-python",
   "name": "python",
   "nbconvert_exporter": "python",
   "pygments_lexer": "ipython3",
   "version": "3.6.5"
  }
 },
 "nbformat": 4,
 "nbformat_minor": 2
}
