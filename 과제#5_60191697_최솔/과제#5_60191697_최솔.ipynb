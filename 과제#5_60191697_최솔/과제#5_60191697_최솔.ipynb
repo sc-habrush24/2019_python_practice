{
 "cells": [
  {
   "cell_type": "code",
   "execution_count": 1,
   "metadata": {
    "scrolled": true
   },
   "outputs": [
    {
     "name": "stdout",
     "output_type": "stream",
     "text": [
      "Input number of programming languages:2\n",
      "프로그램 언어 이름:파이썬\n",
      "프로그램 언어 설명:쉬운 프로그래밍 언어\n",
      "프로그램 언어 이름:C언어\n",
      "프로그램 언어 설명:어려운 프로그래밍 언어\n",
      "=영어사전 생성=\n",
      "description: 쉬운 프로그래밍 언어\n",
      "Input the name of the language in English:Python\n",
      "Input the description of the language in English:Easy programming language\n",
      "=영어사전 생성=\n",
      "description: 어려운 프로그래밍 언어\n",
      "Input the name of the language in English:C language\n",
      "Input the description of the language in English:Hard programming language\n",
      "Enter a word for search:쉬운\n",
      "Search result: ['파이썬']\n",
      "Enter a word for search:프로그래밍\n",
      "Search result: ['파이썬', 'C언어']\n",
      "Enter a word for search:programming\n",
      "Search result: ['Python', 'C language']\n",
      "Enter a word for search:Hard\n",
      "Search result: ['C language']\n",
      "Enter a word for search:기초\n",
      "No match!! Break!!\n"
     ]
    }
   ],
   "source": [
    "def generateDictionary(n):\n",
    "    for i in range(n):\n",
    "        word=input(\"프로그램 언어 이름:\")\n",
    "        desc=input(\"프로그램 언어 설명:\")\n",
    "        dic[word]=desc\n",
    "    return dic\n",
    "def translationDictionary(dic):\n",
    "    new_dic={}\n",
    "    for word in dic :\n",
    "        print(\"=영어사전 생성=\")\n",
    "        print(\"description:\",dic[word])\n",
    "        new_word=input(\"Input the name of the language in English:\")\n",
    "        new_desc=input(\"Input the description of the language in English:\")\n",
    "        new_dic[new_word]=new_desc\n",
    "    return new_dic\n",
    "def searchDictionary():\n",
    "    dic.update(new_dic)\n",
    "    while True :\n",
    "        l=[]\n",
    "        j=input(\"Enter a word for search:\")\n",
    "        for i,e in dic.items():\n",
    "                if (j in e) and (e==dic.get(i)) :\n",
    "                    l+=[i]\n",
    "        if l==[]:\n",
    "            break\n",
    "        else : print(\"Search result:\",l)\n",
    "    print(\"No match!! Break!!\")\n",
    "            \n",
    "dic={}\n",
    "new_dic={}\n",
    "n=int(input(\"Input number of programming languages:\"))\n",
    "dic=generateDictionary(n)\n",
    "new_dic=translationDictionary(dic)\n",
    "searchDictionary()"
   ]
  }
 ],
 "metadata": {
  "kernelspec": {
   "display_name": "Python 3",
   "language": "python",
   "name": "python3"
  },
  "language_info": {
   "codemirror_mode": {
    "name": "ipython",
    "version": 3
   },
   "file_extension": ".py",
   "mimetype": "text/x-python",
   "name": "python",
   "nbconvert_exporter": "python",
   "pygments_lexer": "ipython3",
   "version": "3.6.5"
  }
 },
 "nbformat": 4,
 "nbformat_minor": 2
}
