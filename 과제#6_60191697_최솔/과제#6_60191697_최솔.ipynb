{
 "cells": [
  {
   "cell_type": "code",
   "execution_count": 2,
   "metadata": {
    "scrolled": false
   },
   "outputs": [
    {
     "name": "stdout",
     "output_type": "stream",
     "text": [
      "Input loop count:3\n",
      "-------------------------\n",
      "Input name:김도형\n",
      "Input student id:80170111\n",
      "Input grade:1\n",
      "-------------------------\n",
      "Input name:이경식\n",
      "Input student id:80170113\n",
      "Input grade:1\n",
      "-------------------------\n",
      "Input name:이은수\n",
      "Input student id:60152221\n",
      "Input grade:3\n",
      "-------------------------\n",
      "[Student(name='이은수', stdid='60152221', grade='3'), Student(name='김도형', stdid='80170111', grade='1'), Student(name='이경식', stdid='80170113', grade='1')]\n"
     ]
    }
   ],
   "source": [
    "import collections \n",
    "import operator\n",
    "while True :\n",
    "    m=0\n",
    "    h=input(\"Input loop count:\")\n",
    "    while m<len(h):\n",
    "        if h[m] not in \"0987654321\" :\n",
    "            print(\"경고!\")\n",
    "            break\n",
    "        m+=1\n",
    "    if m==len(h): break\n",
    "r=int(h)\n",
    "print('-------------------------')\n",
    "Student = collections.namedtuple(\"Student\",\"name stdid grade\")\n",
    "project=[]\n",
    "for i in range(r):\n",
    "    name = input(\"Input name:\")\n",
    "    while True :\n",
    "        m=0\n",
    "        stdId = input(\"Input student id:\")\n",
    "        while m<len(stdId):\n",
    "            if stdId[m] not in \"0987654321\" or len(stdId)!=8:\n",
    "                print(\"경고!\")\n",
    "                break\n",
    "            m+=1\n",
    "        if m==len(stdId):break\n",
    "    while True :\n",
    "        m=0\n",
    "        grade = input(\"Input grade:\")\n",
    "        while m<len(grade):\n",
    "            if grade[m] not in \"1234567890\" or len(grade)!=1:\n",
    "                print(\"경고!\")\n",
    "                break\n",
    "            m+=1\n",
    "        if m==len(grade):break\n",
    "    print('-------------------------')\n",
    "    std=Student(name=name, stdid=stdId, grade=grade)\n",
    "    project+=[std]\n",
    "project=sorted(project,key=operator.attrgetter(\"stdid\"))\n",
    "print(project)\n",
    "\n",
    "\n"
   ]
  },
  {
   "cell_type": "code",
   "execution_count": 4,
   "metadata": {
    "scrolled": true
   },
   "outputs": [
    {
     "name": "stdout",
     "output_type": "stream",
     "text": [
      "Calculate QF(Quadratic Formula) for PSE(Perfect Square Expression)\n",
      "ex) ax^2 + bx + c = 0\n",
      "Input a: 0\n",
      "Input b: 1\n",
      "Input c: 4\n",
      "Calculated answer is(are):\n",
      "-4.00\n"
     ]
    }
   ],
   "source": [
    "\n",
    "def getDiscriminant(a, b, c):\n",
    "    return (b ** 2) - (4 * a * c)\n",
    "\n",
    "def getQuadraticFormula(a, b, c):\n",
    "    QF = None \n",
    "\n",
    "    if a == 0 :\n",
    "        if b == 0:\n",
    "            if c == 0:\n",
    "                QF = True \n",
    "                \n",
    "            else:\n",
    "                QF = False\n",
    "\n",
    "        else:\n",
    "            QF = c / (-b) \n",
    "\n",
    "\n",
    "    else :\n",
    "        D = getDiscriminant(a, b, c)\n",
    "        if D > 0:\n",
    "            QF = (\n",
    "                (-b + D ** 0.5) / (2 * a),\n",
    "                (-b - D ** 0.5) / (2 * a))\n",
    "\n",
    "        elif D < 0:\n",
    "            QF = (\n",
    "                complex((-b) / (2 * a), (-D) ** 0.5),\n",
    "                complex((-b) / (2 * a), - ((-D) ** 0.5)))\n",
    "\n",
    "        else:\n",
    "            QF = (-b) / (2 * a)\n",
    "\n",
    "    return QF \n",
    "\n",
    "print(\"Calculate QF(Quadratic Formula) for PSE(Perfect Square Expression)\")\n",
    "print(\"ex) ax^2 + bx + c = 0\")\n",
    "\n",
    "a = int(input(\"Input a: \"))\n",
    "b = int(input(\"Input b: \"))\n",
    "c = int(input(\"Input c: \"))\n",
    "QF = getQuadraticFormula(a, b, c)\n",
    "\n",
    "print(\"Calculated answer is(are):\")\n",
    "\n",
    "if QF == True and QF!=1:\n",
    "    print(\"Infinity.\")\n",
    "\n",
    "elif QF == False and QF!=0:\n",
    "    print(\"None.\")\n",
    "\n",
    "elif isinstance(QF, tuple): \n",
    "    for answer in QF: \n",
    "        print(\"{:.2f}\".format(answer))\n",
    "\n",
    "else:\n",
    "    print(\"{:.2f}\".format(QF))\n",
    "\n"
   ]
  },
  {
   "cell_type": "code",
   "execution_count": null,
   "metadata": {},
   "outputs": [],
   "source": []
  },
  {
   "cell_type": "code",
   "execution_count": null,
   "metadata": {},
   "outputs": [],
   "source": []
  },
  {
   "cell_type": "code",
   "execution_count": null,
   "metadata": {},
   "outputs": [],
   "source": []
  },
  {
   "cell_type": "code",
   "execution_count": null,
   "metadata": {},
   "outputs": [],
   "source": []
  }
 ],
 "metadata": {
  "kernelspec": {
   "display_name": "Python 3",
   "language": "python",
   "name": "python3"
  },
  "language_info": {
   "codemirror_mode": {
    "name": "ipython",
    "version": 3
   },
   "file_extension": ".py",
   "mimetype": "text/x-python",
   "name": "python",
   "nbconvert_exporter": "python",
   "pygments_lexer": "ipython3",
   "version": "3.6.5"
  }
 },
 "nbformat": 4,
 "nbformat_minor": 2
}
